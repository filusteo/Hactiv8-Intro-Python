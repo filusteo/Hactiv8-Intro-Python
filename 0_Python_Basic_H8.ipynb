{
 "cells": [
  {
   "cell_type": "code",
   "execution_count": null,
   "metadata": {},
   "outputs": [],
   "source": [
    "#int"
   ]
  },
  {
   "cell_type": "code",
   "execution_count": null,
   "metadata": {},
   "outputs": [],
   "source": [
    "#float"
   ]
  },
  {
   "cell_type": "code",
   "execution_count": null,
   "metadata": {},
   "outputs": [],
   "source": [
    "#string"
   ]
  },
  {
   "cell_type": "code",
   "execution_count": null,
   "metadata": {},
   "outputs": [],
   "source": [
    "#boolean"
   ]
  },
  {
   "cell_type": "code",
   "execution_count": 1,
   "metadata": {},
   "outputs": [
    {
     "name": "stdout",
     "output_type": "stream",
     "text": [
      "10\n",
      "<class 'int'>\n",
      "10.0\n",
      "<class 'float'>\n"
     ]
    }
   ],
   "source": [
    "#type conversion float & int constructor\n",
    "print(int(10.9))\n",
    "print(type(int(10.9)))\n",
    "\n",
    "print(float(10))\n",
    "print(type(float(10)))"
   ]
  },
  {
   "cell_type": "code",
   "execution_count": 2,
   "metadata": {},
   "outputs": [
    {
     "data": {
      "text/plain": [
       "10.92"
      ]
     },
     "execution_count": 2,
     "metadata": {},
     "output_type": "execute_result"
    }
   ],
   "source": [
    "round(10.920194, 3)"
   ]
  },
  {
   "cell_type": "code",
   "execution_count": null,
   "metadata": {},
   "outputs": [],
   "source": [
    "#varible assignment"
   ]
  },
  {
   "cell_type": "code",
   "execution_count": 4,
   "metadata": {},
   "outputs": [],
   "source": [
    "# Snake Case (recommended)\n",
    "intro_to_python = 41\n",
    "\n",
    "# Camel case \n",
    "introToPython = 41\n",
    "\n",
    "# Penamaan class bisa menggunakan\n",
    "# HasLaptop \n",
    "\n",
    "# Variable tidak boleh diawali dengan angka\n",
    "\n",
    "is_Active = True"
   ]
  },
  {
   "cell_type": "code",
   "execution_count": 5,
   "metadata": {},
   "outputs": [
    {
     "name": "stdout",
     "output_type": "stream",
     "text": [
      "14\n",
      "8\n",
      "33\n",
      "3.6666666666666665\n",
      "3\n",
      "2\n",
      "1331\n"
     ]
    }
   ],
   "source": [
    "a = 11\n",
    "b = 3\n",
    "\n",
    "print(a+b)\n",
    "print(a-b)\n",
    "print(a*b)\n",
    "print(a/b)\n",
    "print(a//b)\n",
    "print(a%b) #mod\n",
    "print(a**b) "
   ]
  },
  {
   "cell_type": "code",
   "execution_count": 7,
   "metadata": {},
   "outputs": [
    {
     "name": "stdout",
     "output_type": "stream",
     "text": [
      "foofoofoofoo\n"
     ]
    }
   ],
   "source": [
    "print(\"foo\" * 4)"
   ]
  },
  {
   "cell_type": "code",
   "execution_count": 6,
   "metadata": {},
   "outputs": [
    {
     "data": {
      "text/plain": [
       "'h -+ a -+ c -+ k -+ t -+ i -+ v -+ e -+ 8'"
      ]
     },
     "execution_count": 6,
     "metadata": {},
     "output_type": "execute_result"
    }
   ],
   "source": [
    "\" -+ \".join(\"hacktive8\") #method yg hanya bisa dipakai untuk string"
   ]
  },
  {
   "cell_type": "code",
   "execution_count": 8,
   "metadata": {},
   "outputs": [
    {
     "name": "stdout",
     "output_type": "stream",
     "text": [
      "False\n"
     ]
    }
   ],
   "source": [
    "s =\"foo\"\n",
    "print(s in \"This Food is Good\")"
   ]
  },
  {
   "cell_type": "code",
   "execution_count": 9,
   "metadata": {},
   "outputs": [
    {
     "name": "stdout",
     "output_type": "stream",
     "text": [
      "Hacktiv8 course\n",
      "hacktiv8 course\n",
      "hACKtiv8 COurSE\n",
      "Hacktiv8 Course\n",
      "HACKTIV8 COURSE\n"
     ]
    }
   ],
   "source": [
    "course = \"HackTIV8 coURse\"\n",
    "\n",
    "print(course.capitalize())\n",
    "print(course.lower())\n",
    "print(course.swapcase())\n",
    "print(course.title())\n",
    "print(course.upper())"
   ]
  },
  {
   "cell_type": "code",
   "execution_count": 13,
   "metadata": {},
   "outputs": [
    {
     "name": "stdout",
     "output_type": "stream",
     "text": [
      "['foo', 'bar', 'baz', 'qux']\n",
      "<class 'list'>\n",
      "['a', 10, 'b', 9.1, True]\n",
      "<class 'list'>\n"
     ]
    }
   ],
   "source": [
    "# List\n",
    "a = ['foo', 'bar', 'baz', 'qux']\n",
    "ar = ['baz', 'bar', 'foo', 'qux']\n",
    "print(a)\n",
    "b = [\"a\", 10, \"b\", 9.1, True]\n",
    "print(type(a))\n",
    "print(b)\n",
    "print(type(b))\n"
   ]
  },
  {
   "cell_type": "code",
   "execution_count": 16,
   "metadata": {},
   "outputs": [
    {
     "data": {
      "text/plain": [
       "(False, True)"
      ]
     },
     "execution_count": 16,
     "metadata": {},
     "output_type": "execute_result"
    }
   ],
   "source": [
    "a == ar, a == a"
   ]
  },
  {
   "cell_type": "code",
   "execution_count": 18,
   "metadata": {},
   "outputs": [],
   "source": [
    "length_a = len(a)"
   ]
  },
  {
   "cell_type": "code",
   "execution_count": 21,
   "metadata": {},
   "outputs": [
    {
     "name": "stdout",
     "output_type": "stream",
     "text": [
      "qux\n"
     ]
    }
   ],
   "source": [
    "# Reverse indexing\n",
    "print(a[-1])"
   ]
  },
  {
   "cell_type": "code",
   "execution_count": 29,
   "metadata": {},
   "outputs": [
    {
     "name": "stdout",
     "output_type": "stream",
     "text": [
      "[1, 3, 3, 4, 5, 2]\n",
      "[1, 3, 3, 4, 5, 2]\n",
      "[2, 5, 7, 2, 6, 10]\n",
      "[2, 5, 7, 2, 6]\n",
      "[]\n"
     ]
    }
   ],
   "source": [
    "#slicing\n",
    "mylist = [1,3,3,4,5,2,5,7,2,6,10]\n",
    "print(mylist[0:6])\n",
    "print(mylist[:6])\n",
    "print(mylist[5:])\n",
    "print(mylist[-6:-1])\n",
    "print(mylist[-1:-6])"
   ]
  },
  {
   "cell_type": "code",
   "execution_count": 30,
   "metadata": {
    "scrolled": true
   },
   "outputs": [
    {
     "name": "stdout",
     "output_type": "stream",
     "text": [
      "[1, 3, 3, 4, 5, 2, 5, 7, 2, 6]\n"
     ]
    }
   ],
   "source": [
    "min(mylist), max(mylist)\n",
    "\n",
    "del mylist[10]\n",
    "print(mylist)"
   ]
  },
  {
   "cell_type": "code",
   "execution_count": 32,
   "metadata": {},
   "outputs": [
    {
     "name": "stdout",
     "output_type": "stream",
     "text": [
      "4\n",
      "1\n",
      "2\n",
      "3\n",
      "[1, 2, 3, [1, 2, 3]]\n"
     ]
    }
   ],
   "source": [
    "#nested list\n",
    "c = [1,2,3, [1,2,3, [1,2,3]]]\n",
    "print(len(c))\n",
    "print(c[0], c[1], c[2], c[3], sep = \"\\n\")"
   ]
  },
  {
   "cell_type": "code",
   "execution_count": 33,
   "metadata": {},
   "outputs": [
    {
     "data": {
      "text/plain": [
       "3"
      ]
     },
     "execution_count": 33,
     "metadata": {},
     "output_type": "execute_result"
    }
   ],
   "source": [
    "c[3][3][-1]"
   ]
  },
  {
   "cell_type": "code",
   "execution_count": 1,
   "metadata": {},
   "outputs": [],
   "source": []
  },
  {
   "cell_type": "code",
   "execution_count": 15,
   "metadata": {},
   "outputs": [
    {
     "name": "stdout",
     "output_type": "stream",
     "text": [
      "Whether you think you can, or you think you can't--you're right.\n"
     ]
    }
   ],
   "source": [
    "ford_quote = 'Whether you think you can, or you think you can\\'t--you\\'re right.'\n",
    "print(ford_quote)"
   ]
  },
  {
   "cell_type": "code",
   "execution_count": 24,
   "metadata": {},
   "outputs": [
    {
     "name": "stdout",
     "output_type": "stream",
     "text": [
      "[1, 2, 3, 4, 5]\n",
      "[6, 5, 4, 3, 2, 1]\n"
     ]
    }
   ],
   "source": [
    "my_list = [1,2,3,4,5,6]\n",
    "print(my_list[-6:-1:1]) #increment di argumen ketiga sebanyak 1\n",
    "print(my_list[-1::-1])"
   ]
  },
  {
   "cell_type": "code",
   "execution_count": 26,
   "metadata": {},
   "outputs": [
    {
     "name": "stdout",
     "output_type": "stream",
     "text": [
      "('quux', 'baz', 'bar', 'foo')\n"
     ]
    }
   ],
   "source": [
    "#Tuple mendefine sequence\n",
    "#Tidak bisa diubah nilainya seperti string\n",
    "#Berlaku Indexing\n",
    "\n",
    "mytuple = (\"foo\", \"bar\", \"baz\", \"quux\")\n",
    "print(mytuple[::-1])"
   ]
  },
  {
   "cell_type": "code",
   "execution_count": 28,
   "metadata": {},
   "outputs": [
    {
     "data": {
      "text/plain": [
       "'foo'"
      ]
     },
     "execution_count": 28,
     "metadata": {},
     "output_type": "execute_result"
    }
   ],
   "source": [
    "#packing and unpacking\n",
    "(s1, s2, s3, s4) = (\"foo\", \"bar\", \"baz\", \"quux\")v \n",
    "(s1, s2, s3, s4) = \"foo\", \"bar\", \"baz\", \"quux\"\n",
    "\n",
    "s1"
   ]
  },
  {
   "cell_type": "code",
   "execution_count": 33,
   "metadata": {},
   "outputs": [
    {
     "name": "stdout",
     "output_type": "stream",
     "text": [
      "foo bar ['baz', 'quux']\n",
      "foo ['bar', 'baz'] quux\n",
      "('f', 'o', 'o') ['bar', 'baz'] quux\n",
      "('f', 'o', 'o') ['bar', 'baz'] <class 'list'> quux\n",
      "('f', 'o', 'o') ['bar', 'baz'] <class 'str'>   ['bar', ' quux\n"
     ]
    }
   ],
   "source": [
    "s1, s2,  *s3 = mytuple\n",
    "print(s1, s2, s3)\n",
    "\n",
    "t1, *t2, t3 = mytuple\n",
    "print(t1,t2,t3)\n",
    "\n",
    "t1, *t2, t3 = mytuple\n",
    "t1 = tuple(t1)\n",
    "print(t1,t2,t3)\n",
    "print(t1,t2,type(t2),t3)\n",
    "\n",
    "t2=str(t2)\n",
    "print(t1,t2, type(t2), t2[7], t2[:9], t3)\n"
   ]
  },
  {
   "cell_type": "code",
   "execution_count": 46,
   "metadata": {},
   "outputs": [
    {
     "name": "stdout",
     "output_type": "stream",
     "text": [
      "1\n",
      "100\n",
      "can't find any key\n",
      "1\n"
     ]
    }
   ],
   "source": [
    "# dictionary key-value pair. : addociative array\n",
    "\n",
    "elements = {\n",
    "    \"hydrogen\" : 1,\n",
    "    \"helim\" : 2,\n",
    "    \"carbon\" : 6,\n",
    "    0: 100,\n",
    "    'oxygen': 8,\n",
    "    \"batch\" : 41,\n",
    "    \"el\" : [1,2,3,4]\n",
    "}\n",
    "# key \"hydrogen\" , value nya \"1\" bisa berupa list\n",
    "\n",
    "print(elements[\"hydrogen\"])\n",
    "print(elements[0])\n",
    "print(elements.get(\"argon\", \"can't find any key\"))\n",
    "print(elements['hydrogen'])"
   ]
  },
  {
   "cell_type": "code",
   "execution_count": 47,
   "metadata": {},
   "outputs": [
    {
     "name": "stdout",
     "output_type": "stream",
     "text": [
      "10\n",
      "{}\n",
      "{'carbon': 6}\n"
     ]
    }
   ],
   "source": [
    "# define\n",
    "elements[\"argon\"] = 10\n",
    "print(elements.get(\"argon\", \"can't find any key\"))\n",
    "\n",
    "element = {}\n",
    "print(element)\n",
    "element[\"carbon\"] = 6\n",
    "print(element)"
   ]
  },
  {
   "cell_type": "code",
   "execution_count": 49,
   "metadata": {},
   "outputs": [
    {
     "name": "stdout",
     "output_type": "stream",
     "text": [
      "dict_keys(['hydrogen', 'helim', 'carbon', 0, 'oxygen', 'batch', 'el', 'argon'])\n",
      "['hydrogen', 'helim', 'carbon', 0, 'oxygen', 'batch', 'el', 'argon']\n",
      "dict_values([1, 2, 6, 100, 8, 41, [1, 2, 3, 4], 10])\n",
      "[1, 2, 6, 100, 8, 41, [1, 2, 3, 4], 10]\n",
      "dict_items([('hydrogen', 1), ('helim', 2), ('carbon', 6), (0, 100), ('oxygen', 8), ('batch', 41), ('el', [1, 2, 3, 4]), ('argon', 10)])\n"
     ]
    }
   ],
   "source": [
    "print(elements.keys()) #return dict's keys\n",
    "print(list(elements.keys()))\n",
    "\n",
    "print(elements.values())\n",
    "print(list(elements.values()))\n",
    "\n",
    "print(elements.items())"
   ]
  },
  {
   "cell_type": "code",
   "execution_count": 50,
   "metadata": {},
   "outputs": [],
   "source": [
    "# Line continuation\n",
    "# satu line code disebut statement\n"
   ]
  }
 ],
 "metadata": {
  "kernelspec": {
   "display_name": "Python 3",
   "language": "python",
   "name": "python3"
  },
  "language_info": {
   "codemirror_mode": {
    "name": "ipython",
    "version": 3
   },
   "file_extension": ".py",
   "mimetype": "text/x-python",
   "name": "python",
   "nbconvert_exporter": "python",
   "pygments_lexer": "ipython3",
   "version": "3.7.6"
  }
 },
 "nbformat": 4,
 "nbformat_minor": 4
}
