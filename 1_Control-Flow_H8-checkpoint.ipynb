{
 "cells": [
  {
   "cell_type": "code",
   "execution_count": 1,
   "metadata": {},
   "outputs": [
    {
     "name": "stdout",
     "output_type": "stream",
     "text": [
      "yes! x < 5\n",
      "Next!\n",
      "yes! x > y\n"
     ]
    }
   ],
   "source": [
    "x = 0\n",
    "y = 5\n",
    "\n",
    "if x < 5:\n",
    "    print(\"yes! x < 5\")\n",
    "    \n",
    "if y < x:\n",
    "    print(\"No! x < y\")\n",
    "print(\"Next!\")\n",
    "    \n",
    "if True:\n",
    "    print(\"yes! x > y\")\n",
    "    \n",
    "if False:\n",
    "    print(\"Skip this!\")"
   ]
  },
  {
   "cell_type": "code",
   "execution_count": 6,
   "metadata": {},
   "outputs": [],
   "source": [
    "# if (<expr>) expr mrupakan boolean\n",
    "#rangkuman\n",
    "myList = [\"bar\", \"baz\", \"quz\"]\n",
    "\n",
    "if 'foo' in myList:\n",
    "    print(\"test\")\n",
    "elif 'baz' in myList:\n",
    "    print(\"test2\")\n",
    "else:\n",
    "    print(\"test3\")"
   ]
  },
  {
   "cell_type": "code",
   "execution_count": 10,
   "metadata": {},
   "outputs": [
    {
     "name": "stdout",
     "output_type": "stream",
     "text": [
      "Let's buy the book\n"
     ]
    }
   ],
   "source": [
    "book_price = 5000\n",
    "mag_price = 2000\n",
    "money = 5000\n",
    "\n",
    "if money >= book_price:\n",
    "    print(\"Let's buy the book\")\n",
    "elif money >= mag_price:\n",
    "    print(\"Just buy the mag\")\n",
    "else:\n",
    "    print(\"Let's collect more money\")\n"
   ]
  },
  {
   "cell_type": "code",
   "execution_count": 12,
   "metadata": {},
   "outputs": [
    {
     "name": "stdout",
     "output_type": "stream",
     "text": [
      "1\n",
      "2\n",
      "3\n"
     ]
    }
   ],
   "source": [
    "#One Liner\n",
    "\n",
    "if \"f\" in \"foo\": print(1); print(2); print(3)"
   ]
  },
  {
   "cell_type": "code",
   "execution_count": 13,
   "metadata": {},
   "outputs": [
    {
     "name": "stdout",
     "output_type": "stream",
     "text": [
      "Let's go to the beach\n"
     ]
    }
   ],
   "source": [
    "# Ternary Operator lanjutan one liner\n",
    "raining = False\n",
    "print(\"Let's go to the\", 'beach' if not raining else 'library')"
   ]
  },
  {
   "cell_type": "code",
   "execution_count": 15,
   "metadata": {},
   "outputs": [
    {
     "name": "stdout",
     "output_type": "stream",
     "text": [
      "Let's go to the library\n"
     ]
    }
   ],
   "source": [
    "# Ternary Operator\n",
    "raining = True\n",
    "print(\"Let's go to the\", 'beach' if not raining else 'library')"
   ]
  },
  {
   "cell_type": "code",
   "execution_count": 16,
   "metadata": {},
   "outputs": [
    {
     "name": "stdout",
     "output_type": "stream",
     "text": [
      "foo\n"
     ]
    }
   ],
   "source": [
    "# pass statement\n",
    "if True:\n",
    "    pass\n",
    "print('foo')"
   ]
  },
  {
   "cell_type": "code",
   "execution_count": 18,
   "metadata": {},
   "outputs": [
    {
     "name": "stdout",
     "output_type": "stream",
     "text": [
      "10\n",
      "9\n",
      "8\n",
      "7\n",
      "6\n",
      "5\n",
      "4\n",
      "3\n",
      "2\n",
      "1\n",
      "beres\n"
     ]
    }
   ],
   "source": [
    "# Looping\n",
    "n = 10\n",
    "while n> 0:\n",
    "    print(n)\n",
    "    n = n-1\n",
    "print(\"beres\")"
   ]
  },
  {
   "cell_type": "code",
   "execution_count": 19,
   "metadata": {},
   "outputs": [
    {
     "name": "stdout",
     "output_type": "stream",
     "text": [
      "5\n",
      "4\n",
      "3\n",
      "2\n",
      "beres\n"
     ]
    }
   ],
   "source": [
    "x = 5\n",
    "while x > 0:\n",
    "    print(x)\n",
    "    if x == 2:\n",
    "        break\n",
    "    x -= 1\n",
    "print(\"beres\")"
   ]
  },
  {
   "cell_type": "code",
   "execution_count": 21,
   "metadata": {},
   "outputs": [
    {
     "name": "stdout",
     "output_type": "stream",
     "text": [
      "4\n",
      "2\n",
      "1\n",
      "0\n"
     ]
    }
   ],
   "source": [
    "x = 5 \n",
    "while x > 0:\n",
    "    x -= 1\n",
    "    if x == 3:\n",
    "        continue\n",
    "        print(x, \"ini continue\")\n",
    "    print(x)"
   ]
  },
  {
   "cell_type": "code",
   "execution_count": null,
   "metadata": {},
   "outputs": [],
   "source": []
  }
 ],
 "metadata": {
  "kernelspec": {
   "display_name": "Python 3",
   "language": "python",
   "name": "python3"
  },
  "language_info": {
   "codemirror_mode": {
    "name": "ipython",
    "version": 3
   },
   "file_extension": ".py",
   "mimetype": "text/x-python",
   "name": "python",
   "nbconvert_exporter": "python",
   "pygments_lexer": "ipython3",
   "version": "3.7.7"
  }
 },
 "nbformat": 4,
 "nbformat_minor": 4
}
